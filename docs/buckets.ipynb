{
 "metadata": {
  "language_info": {
   "codemirror_mode": {
    "name": "ipython",
    "version": 3
   },
   "file_extension": ".py",
   "mimetype": "text/x-python",
   "name": "python",
   "nbconvert_exporter": "python",
   "pygments_lexer": "ipython3",
   "version": "3.9.0-final"
  },
  "orig_nbformat": 2,
  "kernelspec": {
   "name": "python3",
   "display_name": "Python 3"
  }
 },
 "nbformat": 4,
 "nbformat_minor": 2,
 "cells": [
  {
   "cell_type": "code",
   "execution_count": 1,
   "metadata": {},
   "outputs": [],
   "source": [
    "import os\n",
    "import boto3\n",
    "from pkg_resources import resource_filename\n",
    "from liteblue.handlers.json_utils import dumps, loads\n",
    "from tools.s3_tools import bucket_exists, get_bucket, create_bucket, delete_bucket\n",
    "from tools.provsion_store import store\n",
    "os.environ[\"AWS_PROFILE\"] = \"default\"\n",
    "\n",
    "bucket_name = \"vashti.blueshed.info\""
   ]
  },
  {
   "cell_type": "code",
   "execution_count": 3,
   "metadata": {},
   "outputs": [
    {
     "output_type": "stream",
     "name": "stdout",
     "text": [
      "{\n    \"Name\": \"site.blueshed.info\",\n    \"CreationDate\": \"2020-11-28 18:30:47+00:00\",\n    \"arn\": \"arn:aws:s3:::site.blueshed.info\",\n    \"cors\": [\n        {\n            \"AllowedHeaders\": [\n                \"*\"\n            ],\n            \"AllowedMethods\": [\n                \"HEAD\",\n                \"GET\",\n                \"PUT\",\n                \"POST\",\n                \"DELETE\"\n            ],\n            \"AllowedOrigins\": [\n                \"http://localhost:8080\"\n            ],\n            \"ExposeHeaders\": [\n                \"ETag\",\n                \"x-amz-meta-custom-header\"\n            ],\n            \"MaxAgeSeconds\": 3000\n        },\n        {\n            \"AllowedHeaders\": [\n                \"*\"\n            ],\n            \"AllowedMethods\": [\n                \"GET\"\n            ],\n            \"AllowedOrigins\": [\n                \"*\"\n            ],\n            \"MaxAgeSeconds\": 3000\n        }\n    ],\n    \"acl\": {\n        \"Owner\": {\n            \"DisplayName\": \"pete25658\",\n            \"ID\": \"179107d093b74f062f074db380dbafdde48d077c2dd1a95276617b4d5132f8b4\"\n        },\n        \"Grants\": [\n            {\n                \"Grantee\": {\n                    \"DisplayName\": \"pete25658\",\n                    \"ID\": \"179107d093b74f062f074db380dbafdde48d077c2dd1a95276617b4d5132f8b4\",\n                    \"Type\": \"CanonicalUser\"\n                },\n                \"Permission\": \"FULL_CONTROL\"\n            }\n        ]\n    },\n    \"policy\": {\n        \"Version\": \"2012-10-17\",\n        \"Statement\": [\n            {\n                \"Sid\": \"Allow Public Access to All Objects\",\n                \"Effect\": \"Allow\",\n                \"Principal\": \"*\",\n                \"Action\": \"s3:GetObject\",\n                \"Resource\": \"arn:aws:s3:::site.blueshed.info/*\"\n            }\n        ]\n    },\n    \"location\": \"eu-west-1\"\n}\n"
     ]
    }
   ],
   "source": [
    "new_bucket = \"site.blueshed.info\"\n",
    "response = create_bucket(new_bucket)\n",
    "# response = delete_bucket(new_bucket)\n",
    "print(dumps(response, indent=4))"
   ]
  },
  {
   "cell_type": "code",
   "execution_count": 3,
   "metadata": {},
   "outputs": [
    {
     "output_type": "stream",
     "name": "stdout",
     "text": [
      "exists True\n"
     ]
    }
   ],
   "source": [
    "print(\"exists\", bucket_exists(bucket_name))"
   ]
  },
  {
   "cell_type": "code",
   "execution_count": 2,
   "metadata": {},
   "outputs": [
    {
     "output_type": "stream",
     "name": "stdout",
     "text": [
      "{'ResponseMetadata': {'RequestId': '09DD1204438CA435', 'HostId': 'jX4j4qJrLYL7jk5s1itRxU3EGHtlxMySfdLAKTWeZ58xQl+CkKM4nTC1/WfTz0Ro8kN8LjZWTCM=', 'HTTPStatusCode': 200, 'HTTPHeaders': {'x-amz-id-2': 'jX4j4qJrLYL7jk5s1itRxU3EGHtlxMySfdLAKTWeZ58xQl+CkKM4nTC1/WfTz0Ro8kN8LjZWTCM=', 'x-amz-request-id': '09DD1204438CA435', 'date': 'Sat, 28 Nov 2020 17:29:25 GMT', 'content-type': 'application/xml', 'transfer-encoding': 'chunked', 'server': 'AmazonS3'}, 'RetryAttempts': 0}, 'LocationConstraint': 'eu-west-1'}\n{\n    \"Name\": \"vashti.blueshed.info\",\n    \"CreationDate\": \"2020-06-11 18:24:46+00:00\",\n    \"arn\": \"arn:aws:s3:::vashti.blueshed.info\",\n    \"cors\": [\n        {\n            \"AllowedHeaders\": [\n                \"*\"\n            ],\n            \"AllowedMethods\": [\n                \"HEAD\",\n                \"GET\",\n                \"PUT\",\n                \"POST\",\n                \"DELETE\"\n            ],\n            \"AllowedOrigins\": [\n                \"http://localhost:8080\"\n            ],\n            \"ExposeHeaders\": [\n                \"ETag\",\n                \"x-amz-meta-custom-header\"\n            ],\n            \"MaxAgeSeconds\": 3000\n        },\n        {\n            \"AllowedHeaders\": [\n                \"*\"\n            ],\n            \"AllowedMethods\": [\n                \"GET\"\n            ],\n            \"AllowedOrigins\": [\n                \"*\"\n            ],\n            \"MaxAgeSeconds\": 3000\n        }\n    ],\n    \"acl\": {\n        \"Owner\": {\n            \"DisplayName\": \"pete25658\",\n            \"ID\": \"179107d093b74f062f074db380dbafdde48d077c2dd1a95276617b4d5132f8b4\"\n        },\n        \"Grants\": [\n            {\n                \"Grantee\": {\n                    \"DisplayName\": \"pete25658\",\n                    \"ID\": \"179107d093b74f062f074db380dbafdde48d077c2dd1a95276617b4d5132f8b4\",\n                    \"Type\": \"CanonicalUser\"\n                },\n                \"Permission\": \"FULL_CONTROL\"\n            }\n        ]\n    },\n    \"policy\": {\n        \"Version\": \"2012-10-17\",\n        \"Statement\": [\n            {\n                \"Sid\": \"Allow Public Access to All Objects\",\n                \"Effect\": \"Allow\",\n                \"Principal\": \"*\",\n                \"Action\": \"s3:GetObject\",\n                \"Resource\": \"arn:aws:s3:::vashti.blueshed.info/*\"\n            }\n        ]\n    },\n    \"location\": \"eu-west-1\"\n}\n"
     ]
    }
   ],
   "source": [
    "bucket = get_bucket(bucket_name)\n",
    "print(dumps(bucket, indent=4))"
   ]
  },
  {
   "cell_type": "code",
   "execution_count": 12,
   "metadata": {},
   "outputs": [
    {
     "output_type": "stream",
     "name": "stdout",
     "text": [
      "{{\n    \"Version\": \"2012-10-17\",\n    \"Statement\": [\n        {{\n            \"Sid\": \"Allow Public Access to All Objects\",\n            \"Effect\": \"Allow\",\n            \"Principal\": \"*\",\n            \"Action\": \"s3:GetObject\",\n            \"Resource\": \"{bucket_arn}/*\"\n        }}\n    ]\n}}\n{\n    \"Version\": \"2012-10-17\",\n    \"Statement\": [\n        {\n            \"Sid\": \"Allow Public Access to All Objects\",\n            \"Effect\": \"Allow\",\n            \"Principal\": \"*\",\n            \"Action\": \"s3:GetObject\",\n            \"Resource\": \"foo/*\"\n        }\n    ]\n}\n"
     ]
    }
   ],
   "source": [
    "policy_path = resource_filename(\"tools\", \"resources/bucket_policy_tmpl.json\")\n",
    "with open(policy_path) as file:\n",
    "    policy = file.read()\n",
    "    print(policy)\n",
    "    bucket_policy = policy.format(bucket_arn=\"foo\")\n",
    "print(bucket_policy)"
   ]
  },
  {
   "cell_type": "code",
   "execution_count": 5,
   "metadata": {},
   "outputs": [
    {
     "output_type": "stream",
     "name": "stdout",
     "text": [
      "eu-west-1\n"
     ]
    }
   ],
   "source": [
    "session = boto3.session.Session()\n",
    "print(session.region_name)"
   ]
  },
  {
   "cell_type": "code",
   "execution_count": null,
   "metadata": {},
   "outputs": [],
   "source": []
  }
 ]
}