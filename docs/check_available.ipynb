{
 "metadata": {
  "language_info": {
   "codemirror_mode": {
    "name": "ipython",
    "version": 3
   },
   "file_extension": ".py",
   "mimetype": "text/x-python",
   "name": "python",
   "nbconvert_exporter": "python",
   "pygments_lexer": "ipython3",
   "version": "3.9.0-final"
  },
  "orig_nbformat": 2,
  "kernelspec": {
   "name": "python3",
   "display_name": "Python 3"
  }
 },
 "nbformat": 4,
 "nbformat_minor": 2,
 "cells": [
  {
   "cell_type": "code",
   "execution_count": 17,
   "metadata": {},
   "outputs": [
    {
     "output_type": "stream",
     "name": "stdout",
     "text": [
      "{\n    \"Availability\": \"UNAVAILABLE\",\n    \"ResponseMetadata\": {\n        \"RequestId\": \"8a7499d0-8979-4bc3-ad3f-2bbac03f82b3\",\n        \"HTTPStatusCode\": 200,\n        \"HTTPHeaders\": {\n            \"x-amzn-requestid\": \"8a7499d0-8979-4bc3-ad3f-2bbac03f82b3\",\n            \"content-type\": \"application/x-amz-json-1.1\",\n            \"content-length\": \"30\",\n            \"date\": \"Sat, 28 Nov 2020 10:57:21 GMT\"\n        },\n        \"RetryAttempts\": 0\n    },\n    \"domain\": \"woodsend.farm\"\n}\n"
     ]
    }
   ],
   "source": [
    "import os\n",
    "import boto3\n",
    "from liteblue.handlers.json_utils import dumps\n",
    "from tools.route53_tools import check_available\n",
    "os.environ[\"AWS_PROFILE\"] = \"default\"\n",
    "\n",
    "availability = check_available(\"woodsend.farm\")\n",
    "print(dumps(availability, indent=4))"
   ]
  },
  {
   "cell_type": "code",
   "execution_count": null,
   "metadata": {},
   "outputs": [],
   "source": []
  }
 ]
}